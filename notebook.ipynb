{
 "cells": [
  {
   "cell_type": "code",
   "execution_count": null,
   "source": [
    "import pandas as pd\n",
    "import matplotlib.pyplot as plt"
   ],
   "outputs": [],
   "metadata": {}
  },
  {
   "cell_type": "code",
   "execution_count": null,
   "source": [
    "df = pd.read_csv(r'data/deertrail.csv', parse_dates=['datetime'], engine='python')\n",
    "# df.head()"
   ],
   "outputs": [],
   "metadata": {}
  },
  {
   "cell_type": "code",
   "execution_count": null,
   "source": [
    "dfmi = df.set_index(['location', 'parameter', 'datetime']).sort_index()\n",
    "subpop = dfmi.loc[('L3-42', 'Lead (Total)'),\n",
    "                  :].reset_index(level='datetime')\n",
    "subpop"
   ],
   "outputs": [],
   "metadata": {}
  },
  {
   "cell_type": "code",
   "execution_count": null,
   "source": [
    "t = df['value'].fillna(value=df['detection_limit']/2)\n",
    "#df.loc[df['parameter'] == 'Zinc (Total)', ['detection_limit']]\n",
    "df['detection_limit'].isna().sum()"
   ],
   "outputs": [],
   "metadata": {}
  },
  {
   "cell_type": "code",
   "execution_count": null,
   "source": [
    "# df.loc[(df['parameter'].str.contains(', Field', regex=False)) & (df['method'].isna()), ['method']] = \"Field\"\n",
    "# df.sample(50)\n",
    "df.loc[(df['parameter'].str.contains(', Field', regex=False))]"
   ],
   "outputs": [],
   "metadata": {}
  },
  {
   "cell_type": "code",
   "execution_count": null,
   "source": [
    "# some info\n",
    "df.dtypes\n",
    "df.groupby(\"location\").mean()\n",
    "df['Value'].isnull().sum()\n",
    "df['Value'].count()\n",
    "len(df['CAS'].unique())\n",
    "len(df['parameter'].unique())\n",
    "# Fill with half of detection limit?\n",
    "df.fillna(0)"
   ],
   "outputs": [],
   "metadata": {}
  },
  {
   "cell_type": "code",
   "execution_count": null,
   "source": [
    "dfmi = df.set_index(['location', 'parameter', 'datetime']).sort_index()\n",
    "# multi.head(25)\n",
    "# subpop = dfmi.xs('L3-42')\n",
    "# subsubpop = subpop.xs('1,1,1-Trichloroethane')\n",
    "# subsubpop\n",
    "#subpop = dfmi.xs(('L3-42', 'trans-1,2-Dichloroethene'))\n",
    "subpop = dfmi.loc[('L3-42', 'trans-1,2-Dichloroethene'),\n",
    "                  :].reset_index(level='datetime')\n",
    "subpop.unit[0]"
   ],
   "outputs": [],
   "metadata": {}
  },
  {
   "cell_type": "code",
   "execution_count": null,
   "source": [
    "sub_df = df[(df['location'] == 'L4-33') & (df['parameter'].isin(['Gross Alpha']))]\n",
    "ax = sub_df.plot(x='datetime', y='Value', kind='line', logy=True, subplots=False, marker='o', label='Gross Alpha')\n",
    "\n",
    "sub_df.plot(x='datetime', y='detection_limit', kind='line', logy=True,\n",
    "            subplots=False, marker='o', label='Detection Limit', ax=ax)\n",
    "\n",
    "# Put a legend to the right of the current axis\n",
    "ax.legend(loc='center left', bbox_to_anchor=(1, 0.5))\n",
    "plt.tight_layout(rect=[0, 0, 0.75, 1])\n",
    "# sub_df2 = df[(df['location'] == 'L4-33') &\n",
    "#             (df['DetectionLimit'].isin(['Fluoride']))]\n",
    "# sub_df2.plot(x='datetime', y='Value', kind='line', logy=True,\n",
    "#             subplots=False, marker='o', label='dl',ax=ax)"
   ],
   "outputs": [],
   "metadata": {}
  },
  {
   "cell_type": "code",
   "execution_count": null,
   "source": [
    "fig = plt.figure(figsize=(7.75, 7))\r\n",
    "ax = fig.add_subplot(111)\r\n",
    "#\r\n",
    "ax.plot(sub_df['datetime'], sub_df['value'],\r\n",
    "        label=sub_df.iloc[0]['parameter'], marker='o')\r\n",
    "#\r\n",
    "plt.title(\"Concentration vs. Time\")\r\n",
    "ax.set_xlabel(\"datetime\")\r\n",
    "ax.set_ylabel(f\"Concentration ({sub_df.iloc[0]['unit']})\")\r\n",
    "ax.axes.set_yscale('log')\r\n",
    "plt.style.use('seaborn')\r\n",
    "plt.legend()\r\n",
    "plt.tight_layout()\r\n",
    "plt.gcf().autofmt_xdate()"
   ],
   "outputs": [],
   "metadata": {}
  },
  {
   "cell_type": "code",
   "execution_count": null,
   "source": [
    "#sub_df.unstack(level=1).plot(kind='line', subplots=True)"
   ],
   "outputs": [],
   "metadata": {}
  }
 ],
 "metadata": {
  "orig_nbformat": 4,
  "language_info": {
   "name": "python",
   "version": "3.9.6",
   "mimetype": "text/x-python",
   "codemirror_mode": {
    "name": "ipython",
    "version": 3
   },
   "pygments_lexer": "ipython3",
   "nbconvert_exporter": "python",
   "file_extension": ".py"
  },
  "kernelspec": {
   "name": "python3",
   "display_name": "Python 3.9.6 64-bit"
  },
  "interpreter": {
   "hash": "aee8b7b246df8f9039afb4144a1f6fd8d2ca17a180786b69acc140d282b71a49"
  }
 },
 "nbformat": 4,
 "nbformat_minor": 2
}