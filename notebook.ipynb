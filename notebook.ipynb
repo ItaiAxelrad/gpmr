{
 "cells": [
  {
   "cell_type": "code",
   "execution_count": 3,
   "source": [
    "import pandas as pd\r\n",
    "import matplotlib.pyplot as plt"
   ],
   "outputs": [],
   "metadata": {}
  },
  {
   "cell_type": "code",
   "execution_count": 14,
   "source": [
    "df = pd.read_csv(r'data/deertrail.csv', parse_dates=['datetime'], engine='python')\r\n",
    "# df.head()"
   ],
   "outputs": [],
   "metadata": {}
  },
  {
   "cell_type": "code",
   "execution_count": 28,
   "source": [
    "dfmi = df.set_index(['location', 'parameter', 'datetime']).sort_index()\r\n",
    "subpop = dfmi.loc[('L3-42', 'Lead (Total)'),\r\n",
    "                  :].reset_index(level='datetime')\r\n",
    "subpop"
   ],
   "outputs": [
    {
     "output_type": "execute_result",
     "data": {
      "text/plain": [
       "             datetime        cas  value  unit  detection_limit  \\\n",
       "0 2020-11-13 08:29:00  7439-92-1   10.5  ug/L             50.0   \n",
       "\n",
       "   dilution_factor  mdl     method sample_number  \\\n",
       "0              1.0  6.3  EPA 200.7     DA30473-9   \n",
       "\n",
       "                        laboratory  \n",
       "0  Eurofins TestAmerica, St. Louis  "
      ],
      "text/html": [
       "<div>\n",
       "<style scoped>\n",
       "    .dataframe tbody tr th:only-of-type {\n",
       "        vertical-align: middle;\n",
       "    }\n",
       "\n",
       "    .dataframe tbody tr th {\n",
       "        vertical-align: top;\n",
       "    }\n",
       "\n",
       "    .dataframe thead th {\n",
       "        text-align: right;\n",
       "    }\n",
       "</style>\n",
       "<table border=\"1\" class=\"dataframe\">\n",
       "  <thead>\n",
       "    <tr style=\"text-align: right;\">\n",
       "      <th></th>\n",
       "      <th>datetime</th>\n",
       "      <th>cas</th>\n",
       "      <th>value</th>\n",
       "      <th>unit</th>\n",
       "      <th>detection_limit</th>\n",
       "      <th>dilution_factor</th>\n",
       "      <th>mdl</th>\n",
       "      <th>method</th>\n",
       "      <th>sample_number</th>\n",
       "      <th>laboratory</th>\n",
       "    </tr>\n",
       "  </thead>\n",
       "  <tbody>\n",
       "    <tr>\n",
       "      <th>0</th>\n",
       "      <td>2020-11-13 08:29:00</td>\n",
       "      <td>7439-92-1</td>\n",
       "      <td>10.5</td>\n",
       "      <td>ug/L</td>\n",
       "      <td>50.0</td>\n",
       "      <td>1.0</td>\n",
       "      <td>6.3</td>\n",
       "      <td>EPA 200.7</td>\n",
       "      <td>DA30473-9</td>\n",
       "      <td>Eurofins TestAmerica, St. Louis</td>\n",
       "    </tr>\n",
       "  </tbody>\n",
       "</table>\n",
       "</div>"
      ]
     },
     "metadata": {},
     "execution_count": 28
    }
   ],
   "metadata": {}
  },
  {
   "cell_type": "code",
   "execution_count": 21,
   "source": [
    "t = df['value'].fillna(value=df['detection_limit']/2)\r\n",
    "#df.loc[df['parameter'] == 'Zinc (Total)', ['detection_limit']]\r\n",
    "df['detection_limit'].isna().sum()"
   ],
   "outputs": [
    {
     "output_type": "execute_result",
     "data": {
      "text/plain": [
       "14468"
      ]
     },
     "metadata": {},
     "execution_count": 21
    }
   ],
   "metadata": {}
  },
  {
   "cell_type": "code",
   "execution_count": 22,
   "source": [
    "# df.loc[(df['parameter'].str.contains(', Field', regex=False)) & (df['method'].isna()), ['method']] = \"Field\"\r\n",
    "# df.sample(50)\r\n",
    "df.loc[(df['parameter'].str.contains(', Field', regex=False))]"
   ],
   "outputs": [
    {
     "output_type": "execute_result",
     "data": {
      "text/plain": [
       "Empty DataFrame\n",
       "Columns: [cas, parameter, value, unit, detection_limit, dilution_factor, mdl, method, sample_number, location, datetime, laboratory]\n",
       "Index: []"
      ],
      "text/html": [
       "<div>\n",
       "<style scoped>\n",
       "    .dataframe tbody tr th:only-of-type {\n",
       "        vertical-align: middle;\n",
       "    }\n",
       "\n",
       "    .dataframe tbody tr th {\n",
       "        vertical-align: top;\n",
       "    }\n",
       "\n",
       "    .dataframe thead th {\n",
       "        text-align: right;\n",
       "    }\n",
       "</style>\n",
       "<table border=\"1\" class=\"dataframe\">\n",
       "  <thead>\n",
       "    <tr style=\"text-align: right;\">\n",
       "      <th></th>\n",
       "      <th>cas</th>\n",
       "      <th>parameter</th>\n",
       "      <th>value</th>\n",
       "      <th>unit</th>\n",
       "      <th>detection_limit</th>\n",
       "      <th>dilution_factor</th>\n",
       "      <th>mdl</th>\n",
       "      <th>method</th>\n",
       "      <th>sample_number</th>\n",
       "      <th>location</th>\n",
       "      <th>datetime</th>\n",
       "      <th>laboratory</th>\n",
       "    </tr>\n",
       "  </thead>\n",
       "  <tbody>\n",
       "  </tbody>\n",
       "</table>\n",
       "</div>"
      ]
     },
     "metadata": {},
     "execution_count": 22
    }
   ],
   "metadata": {}
  },
  {
   "cell_type": "code",
   "execution_count": null,
   "source": [
    "# some info\r\n",
    "df.dtypes\r\n",
    "df.groupby(\"location\").mean()\r\n",
    "df['Value'].isnull().sum()\r\n",
    "df['Value'].count()\r\n",
    "len(df['CAS'].unique())\r\n",
    "len(df['parameter'].unique())\r\n",
    "# Fill with half of detection limit?\r\n",
    "df.fillna(0)"
   ],
   "outputs": [],
   "metadata": {}
  },
  {
   "cell_type": "code",
   "execution_count": null,
   "source": [
    "dfmi = df.set_index(['location', 'parameter', 'datetime']).sort_index()\r\n",
    "# multi.head(25)\r\n",
    "# subpop = dfmi.xs('L3-42')\r\n",
    "# subsubpop = subpop.xs('1,1,1-Trichloroethane')\r\n",
    "# subsubpop\r\n",
    "#subpop = dfmi.xs(('L3-42', 'trans-1,2-Dichloroethene'))\r\n",
    "subpop = dfmi.loc[('L3-42', 'trans-1,2-Dichloroethene'),\r\n",
    "                  :].reset_index(level='datetime')\r\n",
    "subpop.unit[0]"
   ],
   "outputs": [],
   "metadata": {}
  },
  {
   "cell_type": "code",
   "execution_count": null,
   "source": [
    "sub_df = df[(df['location'] == 'L4-33') & (df['parameter'].isin(['Gross Alpha']))]\r\n",
    "ax = sub_df.plot(x='datetime', y='Value', kind='line', logy=True, subplots=False, marker='o', label='Gross Alpha')\r\n",
    "\r\n",
    "sub_df.plot(x='datetime', y='detection_limit', kind='line', logy=True,\r\n",
    "            subplots=False, marker='o', label='Detection Limit', ax=ax)\r\n",
    "\r\n",
    "# Put a legend to the right of the current axis\r\n",
    "ax.legend(loc='center left', bbox_to_anchor=(1, 0.5))\r\n",
    "plt.tight_layout(rect=[0, 0, 0.75, 1])\r\n",
    "# sub_df2 = df[(df['location'] == 'L4-33') &\r\n",
    "#             (df['DetectionLimit'].isin(['Fluoride']))]\r\n",
    "# sub_df2.plot(x='datetime', y='Value', kind='line', logy=True,\r\n",
    "#             subplots=False, marker='o', label='dl',ax=ax)"
   ],
   "outputs": [],
   "metadata": {}
  },
  {
   "cell_type": "code",
   "execution_count": null,
   "source": [
    "fig = plt.figure(figsize=(7.75, 7))\r\n",
    "ax = fig.add_subplot(111)\r\n",
    "#\r\n",
    "ax.plot(sub_df['datetime'], sub_df['value'],\r\n",
    "        label=sub_df.iloc[0]['parameter'], marker='o')\r\n",
    "#\r\n",
    "plt.title(\"Concentration vs. Time\")\r\n",
    "ax.set_xlabel(\"datetime\")\r\n",
    "ax.set_ylabel(f\"Concentration ({sub_df.iloc[0]['unit']})\")\r\n",
    "ax.axes.set_yscale('log')\r\n",
    "plt.style.use('seaborn')\r\n",
    "plt.legend()\r\n",
    "plt.tight_layout()\r\n",
    "plt.gcf().autofmt_xdate()"
   ],
   "outputs": [],
   "metadata": {}
  },
  {
   "cell_type": "code",
   "execution_count": null,
   "source": [
    "#sub_df.unstack(level=1).plot(kind='line', subplots=True)"
   ],
   "outputs": [],
   "metadata": {}
  }
 ],
 "metadata": {
  "orig_nbformat": 4,
  "language_info": {
   "name": "python",
   "version": "3.9.6",
   "mimetype": "text/x-python",
   "codemirror_mode": {
    "name": "ipython",
    "version": 3
   },
   "pygments_lexer": "ipython3",
   "nbconvert_exporter": "python",
   "file_extension": ".py"
  },
  "kernelspec": {
   "name": "python3",
   "display_name": "Python 3.9.6 64-bit ('gpmr-cdOz5McO': pipenv)"
  },
  "interpreter": {
   "hash": "659f3db5d24900c631e04dbf42da270cab4fc9b50e691e47959d24807fd26b9b"
  }
 },
 "nbformat": 4,
 "nbformat_minor": 2
}