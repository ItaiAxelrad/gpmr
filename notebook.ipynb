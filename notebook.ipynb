{
 "cells": [
  {
   "cell_type": "code",
   "execution_count": null,
   "source": [
    "import datetime as dt\r\n",
    "import numpy as np\r\n",
    "import pandas as pd\r\n",
    "import matplotlib.pyplot as plt"
   ],
   "outputs": [],
   "metadata": {}
  },
  {
   "cell_type": "code",
   "execution_count": null,
   "source": [
    "df = pd.read_csv(r'data/deertrail.csv', parse_dates=['Time'], engine='python')\r\n",
    "#df.head(25)"
   ],
   "outputs": [],
   "metadata": {}
  },
  {
   "cell_type": "code",
   "execution_count": null,
   "source": [
    "# some info\r\n",
    "df.dtypes\r\n",
    "df.groupby(\"Location\").mean()\r\n",
    "df['Value'].isnull().sum()\r\n",
    "df['Value'].count()\r\n",
    "len(df['CAS'].unique())\r\n",
    "len(df['Parameter'].unique())\r\n",
    "# Fill with half of detection limit?\r\n",
    "df.fillna(0)"
   ],
   "outputs": [],
   "metadata": {}
  },
  {
   "cell_type": "code",
   "execution_count": null,
   "source": [
    "multi = df.set_index(['Location', 'Parameter', 'Time'], append=False).sort_index()\r\n",
    "# multi.head(25)"
   ],
   "outputs": [],
   "metadata": {}
  },
  {
   "cell_type": "code",
   "execution_count": null,
   "source": [
    "sub_df = df[(df['Location'] == 'L4-33') & (df['Parameter'].isin(['Gross Alpha']))]\r\n",
    "ax = sub_df.plot(x='Time', y='Value', kind='line', logy=True, subplots=False, marker='o', label='Gross Alpha')\r\n",
    "\r\n",
    "sub_df.plot(x='Time', y='DetectionLimit', kind='line', logy=True,\r\n",
    "            subplots=False, marker='o', label='Detection Limit', ax=ax)\r\n",
    "\r\n",
    "# Put a legend to the right of the current axis\r\n",
    "ax.legend(loc='center left', bbox_to_anchor=(1, 0.5))\r\n",
    "plt.tight_layout(rect=[0, 0, 0.75, 1])\r\n",
    "# sub_df2 = df[(df['Location'] == 'L4-33') &\r\n",
    "#             (df['DetectionLimit'].isin(['Fluoride']))]\r\n",
    "# sub_df2.plot(x='Time', y='Value', kind='line', logy=True,\r\n",
    "#             subplots=False, marker='o', label='dl',ax=ax)"
   ],
   "outputs": [],
   "metadata": {}
  },
  {
   "cell_type": "code",
   "execution_count": null,
   "source": [
    "fig = plt.figure(figsize=(7.75, 7))\r\n",
    "ax = fig.add_subplot(111)\r\n",
    "#\r\n",
    "ax.plot(sub_df['Time'], sub_df['Value'],\r\n",
    "        label=sub_df.iloc[0]['Parameter'], marker='o')\r\n",
    "#\r\n",
    "plt.title(\"Concentration vs. Time\")\r\n",
    "ax.set_xlabel(\"Time\")\r\n",
    "ax.set_ylabel(f\"Concentration ({sub_df.iloc[0]['Unit']})\")\r\n",
    "ax.axes.set_yscale('log')\r\n",
    "plt.style.use('seaborn')\r\n",
    "plt.legend()\r\n",
    "plt.tight_layout()\r\n",
    "plt.gcf().autofmt_xdate()"
   ],
   "outputs": [],
   "metadata": {}
  },
  {
   "cell_type": "code",
   "execution_count": null,
   "source": [
    "#sub_df.unstack(level=1).plot(kind='line', subplots=True)"
   ],
   "outputs": [],
   "metadata": {}
  }
 ],
 "metadata": {
  "orig_nbformat": 4,
  "language_info": {
   "name": "python",
   "version": "3.9.6",
   "mimetype": "text/x-python",
   "codemirror_mode": {
    "name": "ipython",
    "version": 3
   },
   "pygments_lexer": "ipython3",
   "nbconvert_exporter": "python",
   "file_extension": ".py"
  },
  "kernelspec": {
   "name": "python3",
   "display_name": "Python 3.9.6 64-bit ('ECIMS-kOTYWo5f': pipenv)"
  },
  "interpreter": {
   "hash": "c0b8079397ce61c741d6358b69d3df0daba36a666e50b526a4b71151c934f418"
  }
 },
 "nbformat": 4,
 "nbformat_minor": 2
}